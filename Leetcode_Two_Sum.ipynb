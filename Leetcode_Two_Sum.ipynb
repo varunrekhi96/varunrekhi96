{
  "nbformat": 4,
  "nbformat_minor": 0,
  "metadata": {
    "colab": {
      "provenance": [],
      "authorship_tag": "ABX9TyOnSLUsGtHcIDpd3tjetsWq",
      "include_colab_link": true
    },
    "kernelspec": {
      "name": "python3",
      "display_name": "Python 3"
    },
    "language_info": {
      "name": "python"
    }
  },
  "cells": [
    {
      "cell_type": "markdown",
      "metadata": {
        "id": "view-in-github",
        "colab_type": "text"
      },
      "source": [
        "<a href=\"https://colab.research.google.com/github/varunrekhi96/varunrekhi96/blob/main/Leetcode_Two_Sum.ipynb\" target=\"_parent\"><img src=\"https://colab.research.google.com/assets/colab-badge.svg\" alt=\"Open In Colab\"/></a>"
      ]
    },
    {
      "cell_type": "code",
      "execution_count": null,
      "metadata": {
        "colab": {
          "base_uri": "https://localhost:8080/"
        },
        "id": "8f1t7s9EssRx",
        "outputId": "a8d676a9-ad73-4c85-b47d-6fe640b6fdf5"
      },
      "outputs": [
        {
          "output_type": "execute_result",
          "data": {
            "text/plain": [
              "[4, 6]"
            ]
          },
          "metadata": {},
          "execution_count": 8
        }
      ],
      "source": [
        "class Solution:\n",
        "    def twoSum(self, nums: list, target: int) -> list:\n",
        "        di\n",
        "\n",
        "\n",
        "s1 = Solution()\n",
        "s1.twoSum([1,5,8,4,9,3,18,2],27)"
      ]
    }
  ]
}